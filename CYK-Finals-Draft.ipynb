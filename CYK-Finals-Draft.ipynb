{
 "cells": [
  {
   "cell_type": "markdown",
   "id": "1a5108ff",
   "metadata": {},
   "source": [
    "### Author: Premdiles, Marius A.\n",
    "### Updated: 07/04/2025"
   ]
  },
  {
   "cell_type": "code",
   "execution_count": 1,
   "id": "b12ba8e5",
   "metadata": {},
   "outputs": [],
   "source": [
    "import numpy as np\n",
    "import matplotlib.pyplot as plt \n",
    "import time\n",
    "from functools import cache"
   ]
  },
  {
   "cell_type": "markdown",
   "id": "837e9688-bff7-408d-b244-4e043c6e1c64",
   "metadata": {},
   "source": [
    "# Preface\n",
    "\n",
    "This will be an overview of the CYK Algorthm aka. (Cocke–Younger–Kasami algorithm):\n",
    "1. It used Chomsky's Normal Form which helps solves word problems for context-free grammars(CFG).\n",
    "1. Mostly seen in reecursive algorithms to make it more efficient by storing values of intermediate calculations.  \n",
    "1. Widely used in almost every artificial intellige\n",
    "1. It shows up in a LOT of job interviews.\n",
    "\n",
    "Regarding the last point, I will clarify that it is entirely possible you will take a job with programming and *never* use dynamic programming.  \n",
    "You *might* if you go to a big tech company, do operations research, or something similar.  \n",
    "But it shows up in technical interviews, particularly for top-level jobs, because it's a very good litmus test.  \n",
    "If you understand dynamic programming, you almost certainly know all of data structures and algorithms and (more importantly) how to apply them to a job.  "
   ]
  },
  {
   "cell_type": "markdown",
   "id": "8a4fa7a3-b2f8-4cbe-bec5-0cd6838324e3",
   "metadata": {},
   "source": [
    "# Grammar\n",
    "\n",
    "The main definition of this is \"rules of a language governing sounds, words, sentences, and other elements, as well as their interpretations and combinations\".\n",
    "It is also exists in the field of linguistics.\n",
    "An underlying structure of every language to any native speaker.\n",
    "It can also be used in the field of computer science by perfoming derivation steps that change strings to other strings and etc.\n",
    "Think of it as a law placed by the people but substitute the people with words in the making of each sentences.\n",
    "\n",
    "Features of Grammar\n",
    "\n",
    "1. *Phology* - study of sound patterns that occurin in languages.\n",
    "1. *Morphology* - study of constructions of words.\n",
    "1. *Syntax* - study of formation of words, clauses, phrases.\n",
    "1. *Semantics* - study of meaning in natural and artificial languages.\n",
    "\n",
    "These basically constructs the foundation of what we call grammar.\n",
    "Communications between humans is the most fundamental aspect of an everyday life of each individual human. \n",
    "With this, it creates a system where everyone is connected in one way or another which makes a society.\n",
    "This can be associated with technology as well.\n",
    "\n",
    "As you can observe, every program and system that you see/use in your everyday life, uses a different programming language for it give an output.\n",
    "Grammar is not only present in words itself. \n",
    "It can be translated into the realms of programming and dynamic coding.\n",
    "\n",
    "\n",
    "\n",
    "\n",
    "\n",
    "\n"
   ]
  },
  {
   "cell_type": "markdown",
   "id": "05bc5643-5f5f-4764-a622-b4c2ca261ead",
   "metadata": {},
   "source": [
    "# Context-Free Grammar\n",
    "\n",
    "With the definiition of grammar clear, this is an application of it. But in a sense of programming. Like laws in a society, there are rules that can say how strings in each class are constructed. They may use:\n",
    "\n",
    "* Symbols of the alphabet\n",
    "* Strings that are already known to be in on of the classes\n",
    "* or both\n",
    "\n",
    "Using this idea, you can make a formal system that can make use of languages a.k.a [context-free language (CFLs)](https://www.geeksforgeeks.org/theory-of-computation/various-properties-of-context-free-languages-cfl/). The purpose of this is:\n",
    "\n",
    "* *Production Rule* - having a set of rules when listing all strings in a language\n",
    "* it has the ability to extend the capabilities of regular expressions\n",
    "\n",
    "Here's a good example:\n",
    "\n",
    "Visualize it as grammar is a tuple that consists of (V, T, P, S) where:\n",
    "\n",
    "* V is the set of variables that are finite. And each variable represent a language which are set of strings\n",
    "\n",
    "* T is the set of terminals that are finite which have symbols that form strings from languages that are being defined.\n",
    "\n",
    "* P is the set production rules that represents the recursive definition of languages\n",
    "\n",
    "* S is the start symbol which gives the definition to the languages\n",
    "\n",
    "Production Rule of the form:\n",
    "\n",
    "$$ A → a$$\n",
    "$$ where, \\; a = {V \\cup T}^* \\; and \\; A ∈ V$$\n",
    "\n",
    "Visual Representation below:\n",
    "\n",
    "\n",
    "\n"
   ]
  },
  {
   "cell_type": "code",
   "execution_count": null,
   "id": "efb3e388",
   "metadata": {},
   "outputs": [
    {
     "data": {
      "image/png": "[encoded data removed]",
      "text/plain": [
       "<Figure size 900x700 with 1 Axes>"
      ]
     },
     "metadata": {},
     "output_type": "display_data"
    }
   ],
   "source": [
    "### Test Code:\n",
    "\n",
    "#  Define the production rules\n",
    "def derive(cfg_string):\n",
    "    if 'S' in cfg_string:\n",
    "        return [cfg_string.replace('S', 'aAb', 1)]\n",
    "    elif 'A' in cfg_string:\n",
    "        return [cfg_string.replace('A', 'aAb', 1), cfg_string.replace('A', '', 1)]\n",
    "    return []\n",
    "\n",
    "def visualize_derivation(steps):\n",
    "    plt.figure(figsize=(9, len(steps)))\n",
    "    plt.axis('off')\n",
    "\n",
    "    for i, step in enumerate(steps):\n",
    "        plt.text(0.1, 1 - i * 0.1, f\"Step {i}:  {step}\", fontsize=12, family='Times New Roman')\n",
    "\n",
    "    plt.title(\"Derivation Steps for Language aⁿbⁿ\", fontsize=14)\n",
    "    plt.show()\n",
    "\n",
    "# This makes the derivation from each variable from its on respected factor\n",
    "def generate_anbn(n):\n",
    "\n",
    "    steps = []\n",
    "    current = 'S'\n",
    "    steps.append(current)\n",
    "\n",
    "    # We substitute the variable S with 'aAb'\n",
    "    current = current.replace('S', 'aAb')\n",
    "    steps.append(current)\n",
    "\n",
    "    # Substitute A to 'aAb', (n-1) times\n",
    "    for _ in range(n - 1):\n",
    "        current = current.replace('A', 'aAb', 1)\n",
    "        steps.append(current)\n",
    "\n",
    "    # Replacing 'A' with ε\n",
    "    current = current.replace('A', '', 1)\n",
    "    steps.append(current)\n",
    "\n",
    "    return steps\n",
    "\n",
    "# Example usage:\n",
    "n = 5  # You can change this value\n",
    "steps = generate_anbn(n)\n",
    "visualize_derivation(steps)\n"
   ]
  },
  {
   "cell_type": "markdown",
   "id": "7ee499fc",
   "metadata": {},
   "source": [
    "### Context-Free Grammar vs. Context-Sensitive Grammar\n",
    "\n",
    "\n",
    "\n"
   ]
  },
  {
   "cell_type": "markdown",
   "id": "e68767ab",
   "metadata": {},
   "source": [
    "# Parsing and Formal Grammar\n",
    "\n",
    "As we have defined earlier, grammar is basically rules which are implemented in sentences and strings. Imagine parsing as like figuring out whether a sentence \"makes sense\" based on grammar rules.Connecting this into computer science, parsing helps a program break down a sentence (or input) and check its structure.\n",
    "\n",
    "Visualize making a sandwich or building a LEGO model:\n",
    "\n",
    "- Grammar rules are like step-by-step instructions.\n",
    "\n",
    "- Parsing is checking if you followed the instructions correctly.\n",
    "\n",
    "In language, the sentence “The dog runs” makes sense, but “Runs the dog” sounds off.\n",
    "Parsing helps a computer figure out the same thing — whether the structure is valid.\n",
    "\n",
    "We use something called a syntax tree to represent the structure of a sentence. Each \"branch\" of the tree shows how small parts come together to make the full sentence.\n"
   ]
  },
  {
   "cell_type": "code",
   "execution_count": 6,
   "id": "7310863b",
   "metadata": {},
   "outputs": [],
   "source": [
    "## Make a parsing tree (MST)"
   ]
  },
  {
   "cell_type": "markdown",
   "id": "48704514-423d-4cf3-ad63-a81379b07037",
   "metadata": {},
   "source": [
    "**Explaining what is happening in the code and what is happening.**"
   ]
  },
  {
   "cell_type": "markdown",
   "id": "ee7a0b7f-1d6a-4b6b-9931-383efce105cc",
   "metadata": {},
   "source": [
    "### Chomsky's Normal Form\n",
    "\n",
    "*Write about rule formats and place visual representations of trees and formating*"
   ]
  },
  {
   "cell_type": "markdown",
   "id": "aaebcd75",
   "metadata": {},
   "source": [
    "### Dynamic programming for parsing\n",
    "\n",
    "*Visual representation of dp table*"
   ]
  },
  {
   "cell_type": "markdown",
   "id": "e7a4d64b",
   "metadata": {},
   "source": [
    "# CYK Algorithm and Implementation\n",
    "The CYK algorithm (Cocke–Younger–Kasami) is a bottom-up parsing algorithm used to determine if a string can be generated by a context-free grammar (CFG) in Chomsky Normal Form (CNF).\n",
    "\n",
    "It constructs a dynamic programming table to evaluate all possible ways to derive substrings of the input from grammar rules. If the start symbol of the grammar derives the entire input string, the string is accepted by the grammar.\n",
    "\n",
    "- **Goal:** Determine if a string `w` belongs to the language generated by a CFG.\n",
    "- **Input:** A CNF grammar and an input string of `n` words.\n",
    "- **Output:** Yes/No (Is the string derivable from the grammar?)\n",
    "\n",
    "**Key Idea:**\\\n",
    "It constructs a triangular table `T[i][j]`, where each cell contains the set of non-terminals that can generate the substring `w[i..j]`.\n",
    "\n",
    "**Time Complexity:** O(n³ * |P|), where |P| is the number of productions.\n"
   ]
  },
  {
   "cell_type": "code",
   "execution_count": 2,
   "id": "c1c01b0f",
   "metadata": {},
   "outputs": [],
   "source": [
    "### Code for cyk algo and comments for step-by-step in the code itself\n",
    "\n",
    "from collections import defaultdict\n",
    "\n",
    "# CNF Grammar (dictionary form)\n",
    "grammar = {\n",
    "    \"S\": [(\"NP\", \"VP\")],\n",
    "    \"NP\": [(\"Det\", \"N\")],\n",
    "    \"VP\": [(\"V\", \"NP\")],\n",
    "    \"Det\": [(\"the\",)],\n",
    "    \"N\": [(\"dog\",), (\"cat\",)],\n",
    "    \"V\": [(\"chased\",)]\n",
    "}\n",
    "\n",
    "# Reverse grammar for lookup: maps terminals and pairs to nonterminals\n",
    "def build_reverse_grammar(grammar):\n",
    "    reverse = defaultdict(list)\n",
    "    for lhs in grammar:\n",
    "        for rule in grammar[lhs]:\n",
    "            reverse[rule].append(lhs)\n",
    "    return reverse\n",
    "\n",
    "# CYK algorithm\n",
    "def cyk_parse(words, grammar):\n",
    "    n = len(words)\n",
    "    table = [[set() for _ in range(n)] for _ in range(n)]\n",
    "    rev_grammar = build_reverse_grammar(grammar)\n",
    "\n",
    "    # Fill in base case\n",
    "    for i in range(n):\n",
    "        table[i][i] = set(rev_grammar.get((words[i],), []))\n",
    "\n",
    "    # Fill in upper triangle\n",
    "    for l in range(2, n + 1):  # substring length\n",
    "        for i in range(n - l + 1):\n",
    "            j = i + l - 1\n",
    "            for k in range(i, j):\n",
    "                for B in table[i][k]:\n",
    "                    for C in table[k + 1][j]:\n",
    "                        table[i][j].update(rev_grammar.get((B, C), []))\n",
    "\n",
    "    return table, \"S\" in table[0][n - 1]\n"
   ]
  },
  {
   "cell_type": "code",
   "execution_count": 3,
   "id": "29e3afe1-4f21-4816-969d-4a1166b652b6",
   "metadata": {},
   "outputs": [
    {
     "name": "stdout",
     "output_type": "stream",
     "text": [
      "Is the sentence valid? Yes\n",
      "\n",
      "CYK Table:\n",
      "[{'Det'}, {'NP'}, set(), set(), {'S'}]\n",
      "['', {'N'}, set(), set(), set()]\n",
      "['', '', {'V'}, set(), {'VP'}]\n",
      "['', '', '', {'Det'}, {'NP'}]\n",
      "['', '', '', '', {'N'}]\n"
     ]
    }
   ],
   "source": [
    "### Test code for cyk algorithm\n",
    "\n",
    "# Input sentence\n",
    "sentence = \"the dog chased the cat\".split()\n",
    "\n",
    "# Run CYK\n",
    "table, is_valid = cyk_parse(sentence, grammar)\n",
    "\n",
    "# Display result\n",
    "print(f\"Is the sentence valid? {'Yes' if is_valid else 'No'}\")\n",
    "\n",
    "# Pretty print CYK table\n",
    "print(\"\\nCYK Table:\")\n",
    "n = len(sentence)\n",
    "for row in range(n):\n",
    "    print([table[row][col] if col >= row else '' for col in range(n)])\n"
   ]
  },
  {
   "cell_type": "code",
   "execution_count": 11,
   "id": "8d903c45-fcab-4090-98eb-622ef80bb261",
   "metadata": {},
   "outputs": [],
   "source": [
    "### Test code for cyk \n",
    "# Input: Str(\"The dog chased the cat\")\n",
    "# Representation (Table visualization)\n",
    "# Output: valid grammar (Yes.)\n",
    "# ###"
   ]
  },
  {
   "cell_type": "code",
   "execution_count": 12,
   "id": "0ab9ac6b",
   "metadata": {},
   "outputs": [],
   "source": [
    "### Test code to example and analogy"
   ]
  },
  {
   "cell_type": "markdown",
   "id": "3d31042d-c6f9-44cb-84ac-cd3cc1b1c756",
   "metadata": {},
   "source": [
    "# Extensions\n",
    "\n",
    "*When CNF conversion is a problem*\n",
    "*Efficiency and limitations*\n",
    " "
   ]
  },
  {
   "cell_type": "markdown",
   "id": "910e04e3",
   "metadata": {},
   "source": [
    "# Summary"
   ]
  },
  {
   "cell_type": "markdown",
   "id": "e25552d9",
   "metadata": {},
   "source": []
  }
 ],
 "metadata": {
  "kernelspec": {
   "display_name": "Python 3",
   "language": "python",
   "name": "python3"
  },
  "language_info": {
   "codemirror_mode": {
    "name": "ipython",
    "version": 3
   },
   "file_extension": ".py",
   "mimetype": "text/x-python",
   "name": "python",
   "nbconvert_exporter": "python",
   "pygments_lexer": "ipython3",
   "version": "3.13.0"
  }
 },
 "nbformat": 4,
 "nbformat_minor": 5
}
